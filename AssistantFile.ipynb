{
  "nbformat": 4,
  "nbformat_minor": 0,
  "metadata": {
    "colab": {
      "provenance": [],
      "authorship_tag": "ABX9TyN4PsWIb6yYprUAtbr7jIae",
      "include_colab_link": true
    },
    "kernelspec": {
      "name": "python3",
      "display_name": "Python 3"
    },
    "language_info": {
      "name": "python"
    }
  },
  "cells": [
    {
      "cell_type": "markdown",
      "metadata": {
        "id": "view-in-github",
        "colab_type": "text"
      },
      "source": [
        "<a href=\"https://colab.research.google.com/github/woahh999/ICT304/blob/Assignment/AssistantFile.ipynb\" target=\"_parent\"><img src=\"https://colab.research.google.com/assets/colab-badge.svg\" alt=\"Open In Colab\"/></a>"
      ]
    },
    {
      "cell_type": "code",
      "execution_count": 1,
      "metadata": {
        "id": "oIzrSlZB7MyS"
      },
      "outputs": [],
      "source": [
        "import openai"
      ]
    },
    {
      "cell_type": "code",
      "source": [
        "openai.api_key= \"I-NEED_KEY\""
      ],
      "metadata": {
        "id": "t5I1hKXy7QQF"
      },
      "execution_count": 2,
      "outputs": []
    },
    {
      "cell_type": "code",
      "source": [
        "def ask_chatbot(question):\n",
        "  try:\n",
        "    response = openai.ChatCompletion.create(\n",
        "        model = \"gpt-3.5-turbo\",\n",
        "        messages = [\n",
        "            {\"role\": \"System\", \"content\": \"You are helpful bank assistant\"},\n",
        "            {\"role\":\"User\", \"content\": question}\n",
        "        ]\n",
        "    )\n",
        "    return response.choices[0].message.content\n",
        "  except Exception as e:\n",
        "    return f\"Error: {e}\""
      ],
      "metadata": {
        "id": "ZOxSz9aj7-W_"
      },
      "execution_count": 5,
      "outputs": []
    },
    {
      "cell_type": "code",
      "source": [],
      "metadata": {
        "id": "O4e-hyFL8G3q"
      },
      "execution_count": null,
      "outputs": []
    }
  ]
}